# Setting up Spacy and Virtual environmnet for NLP
!python3 -m spacy download en 
import spacy
!python -m venv .env           # will create directory .env
!source .env/bin/activate      # activate virtualenv
!pip install spacy             # install stuff
!python -m spacy download en   # this should now work as expected

nlp = spacy.load ('en')
doc = nlp (u' I am learning how 2 build chatbots')
for token in doc:
    print(token.text, token.lemma_, token.pos_, token.tag_, token.dep_,token.shape_, token.is_alpha, token.is_stop) 
