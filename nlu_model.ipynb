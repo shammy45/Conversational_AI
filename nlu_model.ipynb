{
 "cells": [
  {
   "cell_type": "code",
   "execution_count": 1,
   "metadata": {},
   "outputs": [
    {
     "name": "stdout",
     "output_type": "stream",
     "text": [
      "Fitting 2 folds for each of 6 candidates, totalling 12 fits\n"
     ]
    },
    {
     "name": "stderr",
     "output_type": "stream",
     "text": [
      "[Parallel(n_jobs=1)]: Using backend SequentialBackend with 1 concurrent workers.\n",
      "[Parallel(n_jobs=1)]: Done  12 out of  12 | elapsed:    0.1s finished\n"
     ]
    },
    {
     "name": "stdout",
     "output_type": "stream",
     "text": [
      "{'intent': {'name': 'inform', 'confidence': 0.7655876842746548}, 'entities': [{'start': 28, 'end': 35, 'value': 'chennai', 'entity': 'location', 'confidence': 0.6911524447908975, 'extractor': 'CRFEntityExtractor'}], 'intent_ranking': [{'name': 'inform', 'confidence': 0.7655876842746548}, {'name': 'greet', 'confidence': 0.1814427627449767}, {'name': 'goodbye', 'confidence': 0.052969552980368664}], 'text': 'I am planning my holiday in Chennai, I wonder what is the weather out there.'}\n"
     ]
    }
   ],
   "source": [
    "from rasa_nlu.training_data import load_data\n",
    "from rasa_nlu.config import RasaNLUModelConfig\n",
    "from rasa_nlu.model import Trainer\n",
    "from rasa_nlu.model import Metadata, Interpreter\n",
    "from rasa_nlu import config\n",
    "\n",
    "def train_nlu(data, config, model_dir):\n",
    "\ttraining_data = load_data(data)\n",
    "\ttrainer = Trainer(RasaNLUConfig(config))\n",
    "\ttrainer.train(training_data)\n",
    "\tmodel_directory = trainer.persist(model_dir, fixed_model_name = 'weatherbot')\n",
    "\t\n",
    "def run_nlu():\n",
    "\tinterpreter = Interpreter.load('./models/nlu/default/weatherbot')\n",
    "\tprint(interpreter.parse(\"I am planning my holiday in Chennai, I wonder what is the weather out there.\"))\n",
    "\t\n",
    "if __name__ == '__main__':\n",
    "\t#train_nlu('./data/data.json', 'config_spacy.json', './models/nlu')\n",
    "    training_data = load_data('./data/data.json')\n",
    "    trainer = Trainer(config.load('config_spacy.json'))\n",
    "    trainer.train(training_data)\n",
    "    model_directory = trainer.persist('./models/nlu' ,  fixed_model_name = 'weatherbot')\n",
    "    run_nlu()\n"
   ]
  },
  {
   "cell_type": "code",
   "execution_count": null,
   "metadata": {},
   "outputs": [],
   "source": []
  }
 ],
 "metadata": {
  "kernelspec": {
   "display_name": "Python 3",
   "language": "python",
   "name": "python3"
  },
  "language_info": {
   "codemirror_mode": {
    "name": "ipython",
    "version": 3
   },
   "file_extension": ".py",
   "mimetype": "text/x-python",
   "name": "python",
   "nbconvert_exporter": "python",
   "pygments_lexer": "ipython3",
   "version": "3.7.3"
  }
 },
 "nbformat": 4,
 "nbformat_minor": 2
}
